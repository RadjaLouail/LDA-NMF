{
  "cells": [
    {
      "cell_type": "markdown",
      "metadata": {
        "id": "view-in-github",
        "colab_type": "text"
      },
      "source": [
        "<a href=\"https://colab.research.google.com/github/RadjaLouail/LDA-NMF/blob/main/Similarities_between_texts_CLEAN_FIXED.ipynb\" target=\"_parent\"><img src=\"https://colab.research.google.com/assets/colab-badge.svg\" alt=\"Open In Colab\"/></a>"
      ]
    },
    {
      "cell_type": "code",
      "execution_count": null,
      "metadata": {
        "id": "aU6Hw_NkGIez"
      },
      "outputs": [],
      "source": [
        "from sklearn.feature_extraction.text import TfidfVectorizer\n",
        "from sklearn.metrics.pairwise import cosine_similarity\n",
        "from sentence_transformers import SentenceTransformer\n",
        "import numpy as np"
      ]
    },
    {
      "cell_type": "code",
      "execution_count": null,
      "metadata": {
        "id": "V99mhkEZGNpR"
      },
      "outputs": [],
      "source": [
        "# Textes d'exemple\n",
        "text1 = \"I love machine learning and artificial intelligence.\"\n",
        "text2 = \"Artificial intelligence and machine learning are fascinating fields.\""
      ]
    },
    {
      "cell_type": "code",
      "execution_count": null,
      "metadata": {
        "colab": {
          "base_uri": "https://localhost:8080/"
        },
        "id": "cxNbxLKnGX9S",
        "outputId": "35768973-ab22-40a0-8110-786201770cd6"
      },
      "outputs": [
        {
          "name": "stdout",
          "output_type": "stream",
          "text": [
            "Cosine Similarity (TF-IDF): 0.5727\n"
          ]
        }
      ],
      "source": [
        "# ---------- 1. Cosine Similarity (TF-IDF) ----------\n",
        "tfidf_vectorizer = TfidfVectorizer()\n",
        "tfidf_matrix = tfidf_vectorizer.fit_transform([text1, text2])\n",
        "cos_sim = cosine_similarity(tfidf_matrix[0:1], tfidf_matrix[1:2])\n",
        "print(f\"Cosine Similarity (TF-IDF): {cos_sim[0][0]:.4f}\")"
      ]
    },
    {
      "cell_type": "code",
      "execution_count": null,
      "metadata": {
        "colab": {
          "base_uri": "https://localhost:8080/"
        },
        "id": "NJqUJ2fuGawf",
        "outputId": "ff226dc8-c5e7-481b-9f91-17cb78bb1a5b"
      },
      "outputs": [
        {
          "name": "stdout",
          "output_type": "stream",
          "text": [
            "Jaccard Similarity: 0.3636\n"
          ]
        }
      ],
      "source": [
        "# ---------- 2. Jaccard Similarity ----------\n",
        "def jaccard_similarity(str1, str2):\n",
        "    words1 = set(str1.lower().split())\n",
        "    words2 = set(str2.lower().split())\n",
        "    intersection = words1.intersection(words2)\n",
        "    union = words1.union(words2)\n",
        "    return float(len(intersection)) / len(union)\n",
        "\n",
        "jac_sim = jaccard_similarity(text1, text2)\n",
        "print(f\"Jaccard Similarity: {jac_sim:.4f}\")"
      ]
    },
    {
      "cell_type": "code",
      "execution_count": null,
      "metadata": {
        "colab": {
          "base_uri": "https://localhost:8080/",
          "height": 497,
          "referenced_widgets": [
            "6e164f171d8b435eb649e78ad04dcd37",
            "30d4d3af51d1467691a5c6cfcb928466",
            "6d56aeeb23ab4ca48c076ccbf5e57dc6",
            "7f80b9bb3051403f9bd1d17074370800",
            "38ec78fe1a97421286641a4a78860656",
            "9b3ca87ed0ff4c73a50c411c0aec5be4",
            "e299b49d396140ca958be2818e3d4844",
            "dbe38d7bc0f74c9aa99b8800f4a8300b",
            "0be288c5a2264658ad750d0ab1140f19",
            "47750d4af292410fa6958262912b3b12",
            "119816f47fc34a73b11ba08f22cdcf4d",
            "940fc7bfdc20498988352e952320988a",
            "d65b238fecdd48c2b459c1aafcc36a6f",
            "298d805fd9b749a5b94c2610302aac8f",
            "788d30da4c1b43108916034dbdaa9dfc",
            "686ab122b640482eba5ae6564c1f6257",
            "9d2db80833fd4672a9f254f1f94db44b",
            "8aaacb116e804b0a875211a6a99db884",
            "d4863d16a1ea44e2bcfd11837829bfc4",
            "a3461d32392f43f999716c6dc70f2810",
            "54323e23c8f74590ba0202215218e0e2",
            "6384e52f742d48ac857e967591257831",
            "532d8e4eddc14bc3acddb34ba10d3416",
            "dce53376d22942c79102617f72fbc495",
            "901cf415f0384dc1aefd5cc14b6904db",
            "29ef199d554d4176a080cf52228cd5bf",
            "e7f4453cffa24756b6a1351337d85ec0",
            "b0da76d546ab4b0bbcf157b9432f9a1f",
            "4a793c3d8ecb48859564f0ed395acd17",
            "5ebc93f9dddc4ef0a8b4065aa67a8b85",
            "77c9a79c6baf40b5bfab5a913820d372",
            "0b364008dd724529a9e39790db449b15",
            "7d75611992dd40fdac00a9dce0cc8bbd",
            "5aef23944fb941ab8ce2c60b3d8c3110",
            "dc76947b811e4146bc2d8c29d3697003",
            "1e0f8d260f0a44efbea2f406bdd7182d",
            "b314be09a47a4e80992b95f49fb2203f",
            "178aec106a6547bc9c2f7e9f56dc4db0",
            "4d675912dfc54317bb533cfa73fc2301",
            "549ea57ef4084579940908f5c11e3c96",
            "d2a55ccd38854a5681828f786cd993d2",
            "dc84bbe0c86d43aa8b6d345cca49563c",
            "fb9b4f9bbb404ce09d5bb8537d56afe7",
            "e477bf1635974813bfd03d0fa6162a4f",
            "ed5cb9bd94454665833f8b2b935aabb9",
            "c2914915c12149f3b70730ddc9eb2b11",
            "3b55bcd047294aea8064d5815ead2492",
            "53affd08204b4d59a5a25f72e3686dae",
            "02234b9e87974ababc66473886dbc789",
            "4c5a2da7e00944deb2391a29ffbe2396",
            "858f9b3326cf4b38bc66548343f04a16",
            "b86ec824a9b6442c9edebb5586d5cfc7",
            "eed59895c42f4a7c80428658f251fb4e",
            "83a6b434009b4691872edf9f14938f3d",
            "4fe2f794a4ec4f4fa5b7b169b062097e",
            "1fe5370dc54c4dbaa7ddaa8cf6bd0671",
            "884fe035418441d4949a6da69dea516f",
            "171eec399d6148969c469f8701f25d28",
            "85f4ddf4c65b4a0aaba1bcc5b0fc283e",
            "6217a333d2b648b2964c7ff41d67d7af",
            "558a0fa32a2e4c0893cb2f96ebde6463",
            "9ca632959d7f401d92bee5ba2e236525",
            "de2905fdf84f4711b9445dc6347d95f1",
            "6cf232212fde419f868f33a10d19f968",
            "924574b068244ab68cfb3624cb06ab02",
            "cb42027fae4a44d6b588a2e8c3241632",
            "e60ed6d8cbf74d5f9dacd704299c7af2",
            "9a4bd4437d1d411ea1c8d3dea6cf6b31",
            "e3ab9eb668bb4ddc950376e2196ac918",
            "484d48dca61245f8b8d7fdc55bbb4143",
            "5a54d08b84bc4e12ae5ddd87743ed26c",
            "b1ecfcdc85874bc7bd8ce1222d82c8aa",
            "6988b5caef8e4e9a8dc6b6e82f7abc58",
            "38173ecb4f4842d6a6ea9641c92727d5",
            "f02954073f3b45e29135c2a5607a8714",
            "a4c62133a5d344eaab13521ac6b765f8",
            "2842fcdbe48d436e9b89901a839dec1e",
            "e4e089e8c4da4c888ca290b01d2a1a3d",
            "5493a55cef5d46f39c3eb005147cd082",
            "79546d75c98b41769407455124a79eba",
            "f5a17e3877574da6b4f823a665eff5ab",
            "2373232d282743a2aa3305a979e35ad2",
            "b62101a96c604c1a97de6069e43022fd",
            "2cca7911c1e94c4790acdfb5889568c0",
            "fc663e02c5494f389a834e22396f5011",
            "b4d3beece84944b59f03e0cfffd8a472",
            "c7a4d40e10b14e55aa1f10b842531e30",
            "6ed69f8fdc274a398e82ac1b50ccf793",
            "3f68965b11634773b842fb9b6afd25ec",
            "97bb22ceccd34746aac15d5ba71e8005",
            "f966d58f22da4fda8b28d7aa279af8d7",
            "8a303f2f51d44cb2a5b1dafc097d3d23",
            "d2d70d5c67b042cd90b81a1cd5c3039f",
            "a4b7c0d3b364473492074297c32a730c",
            "ffaf0838df7243b3b7e3c2cc3c48487b",
            "95297b5d2985443fbd53e135a3c6b757",
            "793f2da788c1480bb080cd9d63b780a8",
            "b932b3ff1f0a4522bb626a0006225d9e",
            "937a36a33ff243eeb9358f28267a1c86",
            "b452243aae4d40ef9950758170ac9ecd",
            "d706b5b6d64441dea619765904384c9b",
            "59b0c27683ba48299afe70571fed4ab3",
            "d2966217143a4b4d95346b8f8432f188",
            "fd5d3c75e7464ad290db8831fc7cf818",
            "6fce4c0cd9d84ada83d862b84af0d79b",
            "9d9553713e9b4f7d9bc4ed416187e942",
            "2afcc35fb51f44c48c69859c55f6c65d",
            "6576926f4ab54047848c35e0dc457aa4",
            "6f268302fdf643f6882f6f73ce2d9778",
            "98ec0e64f652476d896306ff7caa9245",
            "e0b6bffc65db41cca10acf4482a4360a",
            "53ef96dc5b0b4196b7c8a8f0957a971e",
            "0728197a05b945159121d1e6e4bda87b",
            "88327e45fd2344b185ee868fadb19b10",
            "ea320e7b81c345039be61fca485fbb21",
            "612b64c8a0e54341bd552c5ee71f1fcb",
            "4f0b03babfa146e1a112675213f8e342",
            "0c682f4c80614ddfa7150fb7d3a08e80",
            "8d2011b00e9d4cea900d32fe694e88a4",
            "b2d5c74f53f140fa8389415f7f0951fd",
            "067aebdf986442018dce8d56eae48679"
          ]
        },
        "id": "AajNFFcTHDWv",
        "outputId": "d7ea69f2-fab0-4696-d967-a345d67f628b"
      },
      "outputs": [
        {
          "name": "stderr",
          "output_type": "stream",
          "text": [
            "/usr/local/lib/python3.11/dist-packages/huggingface_hub/utils/_auth.py:94: UserWarning: \n",
            "The secret `HF_TOKEN` does not exist in your Colab secrets.\n",
            "To authenticate with the Hugging Face Hub, create a token in your settings tab (https://huggingface.co/settings/tokens), set it as secret in your Google Colab and restart your session.\n",
            "You will be able to reuse this secret in all of your notebooks.\n",
            "Please note that authentication is recommended but still optional to access public models or datasets.\n",
            "  warnings.warn(\n"
          ]
        },
        {
          "data": {
            "application/vnd.jupyter.widget-view+json": {
              "model_id": "6e164f171d8b435eb649e78ad04dcd37",
              "version_major": 2,
              "version_minor": 0
            },
            "text/plain": [
              "modules.json:   0%|          | 0.00/349 [00:00<?, ?B/s]"
            ]
          },
          "metadata": {},
          "output_type": "display_data"
        },
        {
          "data": {
            "application/vnd.jupyter.widget-view+json": {
              "model_id": "940fc7bfdc20498988352e952320988a",
              "version_major": 2,
              "version_minor": 0
            },
            "text/plain": [
              "config_sentence_transformers.json:   0%|          | 0.00/116 [00:00<?, ?B/s]"
            ]
          },
          "metadata": {},
          "output_type": "display_data"
        },
        {
          "data": {
            "application/vnd.jupyter.widget-view+json": {
              "model_id": "532d8e4eddc14bc3acddb34ba10d3416",
              "version_major": 2,
              "version_minor": 0
            },
            "text/plain": [
              "README.md: 0.00B [00:00, ?B/s]"
            ]
          },
          "metadata": {},
          "output_type": "display_data"
        },
        {
          "data": {
            "application/vnd.jupyter.widget-view+json": {
              "model_id": "5aef23944fb941ab8ce2c60b3d8c3110",
              "version_major": 2,
              "version_minor": 0
            },
            "text/plain": [
              "sentence_bert_config.json:   0%|          | 0.00/53.0 [00:00<?, ?B/s]"
            ]
          },
          "metadata": {},
          "output_type": "display_data"
        },
        {
          "data": {
            "application/vnd.jupyter.widget-view+json": {
              "model_id": "ed5cb9bd94454665833f8b2b935aabb9",
              "version_major": 2,
              "version_minor": 0
            },
            "text/plain": [
              "config.json:   0%|          | 0.00/612 [00:00<?, ?B/s]"
            ]
          },
          "metadata": {},
          "output_type": "display_data"
        },
        {
          "data": {
            "application/vnd.jupyter.widget-view+json": {
              "model_id": "1fe5370dc54c4dbaa7ddaa8cf6bd0671",
              "version_major": 2,
              "version_minor": 0
            },
            "text/plain": [
              "model.safetensors:   0%|          | 0.00/90.9M [00:00<?, ?B/s]"
            ]
          },
          "metadata": {},
          "output_type": "display_data"
        },
        {
          "data": {
            "application/vnd.jupyter.widget-view+json": {
              "model_id": "e60ed6d8cbf74d5f9dacd704299c7af2",
              "version_major": 2,
              "version_minor": 0
            },
            "text/plain": [
              "tokenizer_config.json:   0%|          | 0.00/350 [00:00<?, ?B/s]"
            ]
          },
          "metadata": {},
          "output_type": "display_data"
        },
        {
          "data": {
            "application/vnd.jupyter.widget-view+json": {
              "model_id": "e4e089e8c4da4c888ca290b01d2a1a3d",
              "version_major": 2,
              "version_minor": 0
            },
            "text/plain": [
              "vocab.txt: 0.00B [00:00, ?B/s]"
            ]
          },
          "metadata": {},
          "output_type": "display_data"
        },
        {
          "data": {
            "application/vnd.jupyter.widget-view+json": {
              "model_id": "3f68965b11634773b842fb9b6afd25ec",
              "version_major": 2,
              "version_minor": 0
            },
            "text/plain": [
              "tokenizer.json: 0.00B [00:00, ?B/s]"
            ]
          },
          "metadata": {},
          "output_type": "display_data"
        },
        {
          "data": {
            "application/vnd.jupyter.widget-view+json": {
              "model_id": "b452243aae4d40ef9950758170ac9ecd",
              "version_major": 2,
              "version_minor": 0
            },
            "text/plain": [
              "special_tokens_map.json:   0%|          | 0.00/112 [00:00<?, ?B/s]"
            ]
          },
          "metadata": {},
          "output_type": "display_data"
        },
        {
          "data": {
            "application/vnd.jupyter.widget-view+json": {
              "model_id": "e0b6bffc65db41cca10acf4482a4360a",
              "version_major": 2,
              "version_minor": 0
            },
            "text/plain": [
              "config.json:   0%|          | 0.00/190 [00:00<?, ?B/s]"
            ]
          },
          "metadata": {},
          "output_type": "display_data"
        },
        {
          "name": "stdout",
          "output_type": "stream",
          "text": [
            "Semantic Similarity (Transformer): 0.8074\n"
          ]
        }
      ],
      "source": [
        "# ---------- 3. Semantic Similarity with Transformers ----------\n",
        "model = SentenceTransformer('all-MiniLM-L6-v2')  # modèle léger\n",
        "embedding1 = model.encode(text1)\n",
        "embedding2 = model.encode(text2)\n",
        "\n",
        "semantic_cos_sim = cosine_similarity([embedding1], [embedding2])\n",
        "print(f\"Semantic Similarity (Transformer): {semantic_cos_sim[0][0]:.4f}\")\n",
        "\n"
      ]
    },
    {
      "cell_type": "code",
      "execution_count": null,
      "metadata": {
        "id": "A1QJJXw2HESb"
      },
      "outputs": [],
      "source": []
    }
  ],
  "metadata": {
    "colab": {
      "provenance": [],
      "include_colab_link": true
    },
    "kernelspec": {
      "display_name": "Python 3",
      "name": "python3"
    },
    "language_info": {
      "name": "python"
    }
  },
  "nbformat": 4,
  "nbformat_minor": 0
}